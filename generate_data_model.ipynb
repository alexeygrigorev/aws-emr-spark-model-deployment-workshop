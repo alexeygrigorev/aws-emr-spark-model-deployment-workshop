{
 "cells": [
  {
   "cell_type": "code",
   "execution_count": 1,
   "metadata": {},
   "outputs": [],
   "source": [
    "import secrets\n",
    "import pickle\n",
    "\n",
    "import pandas as pd\n",
    "import numpy as np"
   ]
  },
  {
   "cell_type": "code",
   "execution_count": 2,
   "metadata": {},
   "outputs": [],
   "source": [
    "from tqdm.auto import tqdm"
   ]
  },
  {
   "cell_type": "code",
   "execution_count": 3,
   "metadata": {},
   "outputs": [
    {
     "name": "stderr",
     "output_type": "stream",
     "text": [
      "/home/alexeygrigorev/anaconda3/envs/py36/lib/python3.6/site-packages/dask/dataframe/utils.py:15: FutureWarning: pandas.util.testing is deprecated. Use the functions in the public API at pandas.testing instead.\n",
      "  import pandas.util.testing as tm\n"
     ]
    }
   ],
   "source": [
    "import xgboost as xgb"
   ]
  },
  {
   "cell_type": "code",
   "execution_count": 4,
   "metadata": {},
   "outputs": [],
   "source": [
    "def generate_ids(size):\n",
    "    result = []\n",
    "    \n",
    "    for i in range(size):\n",
    "        id = secrets.token_hex(8)\n",
    "        result.append(id)\n",
    "    \n",
    "    return result"
   ]
  },
  {
   "cell_type": "code",
   "execution_count": 5,
   "metadata": {},
   "outputs": [],
   "source": [
    "def generate_data(n):\n",
    "    df = pd.DataFrame()\n",
    "    df['session_long'] = generate_ids(n)\n",
    "    \n",
    "    df['f_sessions'] = (1000 * np.random.exponential(scale=0.05, size=n)).astype(int)\n",
    "\n",
    "    df['f_view_sessions'] = (0.8 * df['f_sessions'] * np.random.rand(n)).astype(int)\n",
    "    df['f_reply_sessions'] = (0.1 * df['f_sessions'] * np.random.rand(n)).astype(int)\n",
    "    df['f_scroll_sessions'] = (0.5 * df['f_sessions'] * np.random.rand(n)).astype(int)\n",
    "    \n",
    "    return df"
   ]
  },
  {
   "cell_type": "code",
   "execution_count": 6,
   "metadata": {},
   "outputs": [],
   "source": [
    "!mkdir -p data"
   ]
  },
  {
   "cell_type": "code",
   "execution_count": 7,
   "metadata": {},
   "outputs": [
    {
     "data": {
      "application/vnd.jupyter.widget-view+json": {
       "model_id": "2380361ad9eb4c12924c20ae7f49ed79",
       "version_major": 2,
       "version_minor": 0
      },
      "text/plain": [
       "HBox(children=(IntProgress(value=0, max=25), HTML(value='')))"
      ]
     },
     "metadata": {},
     "output_type": "display_data"
    },
    {
     "name": "stdout",
     "output_type": "stream",
     "text": [
      "\n"
     ]
    }
   ],
   "source": [
    "for i in tqdm(range(25)):\n",
    "    df = generate_data(100000)\n",
    "    df.to_parquet('data/part-%05d.parquet' % i, index=False)"
   ]
  },
  {
   "cell_type": "code",
   "execution_count": 8,
   "metadata": {},
   "outputs": [],
   "source": [
    "df_train = generate_data(20000)"
   ]
  },
  {
   "cell_type": "code",
   "execution_count": 9,
   "metadata": {},
   "outputs": [],
   "source": [
    "df_train['f_views_fraction'] = df_train['f_view_sessions'] / df_train['f_sessions']\n",
    "df_train['f_replies_fraction'] = df_train['f_reply_sessions'] / df_train['f_sessions']\n",
    "df_train['f_scrolls_fraction'] = df_train['f_scroll_sessions'] / df_train['f_sessions']"
   ]
  },
  {
   "cell_type": "code",
   "execution_count": 10,
   "metadata": {},
   "outputs": [],
   "source": [
    "X_train = df_train[['f_views_fraction', 'f_replies_fraction', 'f_scrolls_fraction']].values"
   ]
  },
  {
   "cell_type": "code",
   "execution_count": 11,
   "metadata": {},
   "outputs": [
    {
     "data": {
      "text/plain": [
       "array([[0.        , 0.        , 0.36363636],\n",
       "       [0.4       , 0.        , 0.4       ],\n",
       "       [0.13513514, 0.02702703, 0.10810811],\n",
       "       ...,\n",
       "       [0.7       , 0.04      , 0.4       ],\n",
       "       [0.52380952, 0.04761905, 0.42857143],\n",
       "       [0.33333333, 0.        , 0.        ]])"
      ]
     },
     "execution_count": 11,
     "metadata": {},
     "output_type": "execute_result"
    }
   ],
   "source": [
    "X_train"
   ]
  },
  {
   "cell_type": "code",
   "execution_count": 12,
   "metadata": {},
   "outputs": [],
   "source": [
    "y_train = np.random.choice([0, 1, 1], size=20000)"
   ]
  },
  {
   "cell_type": "code",
   "execution_count": 13,
   "metadata": {},
   "outputs": [],
   "source": [
    "dtrain = xgb.DMatrix(X_train, y_train)"
   ]
  },
  {
   "cell_type": "code",
   "execution_count": 14,
   "metadata": {},
   "outputs": [],
   "source": [
    "params = {\n",
    "    'objective': 'binary:logistic'\n",
    "}\n",
    "\n",
    "n_trees = 100"
   ]
  },
  {
   "cell_type": "code",
   "execution_count": 15,
   "metadata": {},
   "outputs": [],
   "source": [
    "model = xgb.train(params, dtrain, n_trees)"
   ]
  },
  {
   "cell_type": "code",
   "execution_count": 16,
   "metadata": {},
   "outputs": [],
   "source": [
    "with open('model.pkl', 'wb') as f_out:\n",
    "    pickle.dump(model, f_out)"
   ]
  }
 ],
 "metadata": {
  "kernelspec": {
   "display_name": "Python 3",
   "language": "python",
   "name": "python3"
  },
  "language_info": {
   "codemirror_mode": {
    "name": "ipython",
    "version": 3
   },
   "file_extension": ".py",
   "mimetype": "text/x-python",
   "name": "python",
   "nbconvert_exporter": "python",
   "pygments_lexer": "ipython3",
   "version": "3.6.9"
  }
 },
 "nbformat": 4,
 "nbformat_minor": 2
}
